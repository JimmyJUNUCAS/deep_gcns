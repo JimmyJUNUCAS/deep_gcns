{
 "cells": [
  {
   "cell_type": "code",
   "execution_count": 1,
   "metadata": {},
   "outputs": [
    {
     "name": "stdout",
     "output_type": "stream",
     "text": [
      "Using vtk version 8.2.0\n"
     ]
    }
   ],
   "source": [
    "import viz\n",
    "area_name = 'Area_5_office_11'\n",
    "npy_folder = '../data/stanford_indoor3d'"
   ]
  },
  {
   "cell_type": "markdown",
   "metadata": {},
   "source": [
    "After you generated the results with the script 'visualize_pretrained.sh' you can run the cell below. You can use the mouse to move and zoom in and out. If you would like to generate multiple results without having to close the interactive window each time, set interactive to 'False' and just run the comparisons one after another."
   ]
  },
  {
   "cell_type": "code",
   "execution_count": 2,
   "metadata": {},
   "outputs": [],
   "source": [
    "#HORIZONTAL: ResGCN-28, ResGCN-28W and ResGCN-56\n",
    "comparison_folder_list = ['pretrained/ResGCN-28/log5/dump', \n",
    "                          'pretrained/ResGCN-28W/log5/dump', \n",
    "                          'pretrained/ResGCN-56/log5/dump']\n",
    "\n",
    "viz.visualize_comparisons(area_name, \n",
    "                          npy_folder, \n",
    "                          comparison_folder_list, \n",
    "                          limit=0.5, \n",
    "                          text=['Original', 'Ground Truth', 'ResGCN-28', 'ResGCN-28W', 'ResGCN-56'],\n",
    "                          png_path=\"visualization_horizontal.png\", \n",
    "                          interactive=True, \n",
    "                          orientation='horizontal')\n"
   ]
  },
  {
   "cell_type": "markdown",
   "metadata": {},
   "source": [
    "If you would like to display the results vertically, use the code snippet below."
   ]
  },
  {
   "cell_type": "code",
   "execution_count": 3,
   "metadata": {},
   "outputs": [],
   "source": [
    "#VERTICAL: ResGCN-28, ResGCN-28W and ResGCN-56\n",
    "comparison_folder_list = ['pretrained/ResGCN-28/log5/dump', \n",
    "                          'pretrained/ResGCN-28W/log5/dump', \n",
    "                          'pretrained/ResGCN-56/log5/dump']\n",
    "\n",
    "viz.visualize_comparisons(area_name, \n",
    "                          npy_folder, \n",
    "                          comparison_folder_list, \n",
    "                          limit=0.5, \n",
    "                          text=['Original', 'Ground Truth', 'ResGCN-28', 'ResGCN-28W', 'ResGCN-56'],\n",
    "                          png_path=\"visualization_vertical.png\", \n",
    "                          interactive=True, \n",
    "                          orientation='vertical')\n"
   ]
  }
 ],
 "metadata": {
  "kernelspec": {
   "display_name": "Python 3",
   "language": "python",
   "name": "python3"
  },
  "language_info": {
   "codemirror_mode": {
    "name": "ipython",
    "version": 3
   },
   "file_extension": ".py",
   "mimetype": "text/x-python",
   "name": "python",
   "nbconvert_exporter": "python",
   "pygments_lexer": "ipython3",
   "version": "3.7.4"
  }
 },
 "nbformat": 4,
 "nbformat_minor": 2
}
